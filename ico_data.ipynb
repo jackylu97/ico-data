{
 "cells": [
  {
   "cell_type": "code",
   "execution_count": 1,
   "metadata": {
    "collapsed": true
   },
   "outputs": [],
   "source": [
    "import sys\n",
    "sys.path.append('/Users/jacky/Projects/tokendata/lib/python3.6/site-packages/')"
   ]
  },
  {
   "cell_type": "code",
   "execution_count": 55,
   "metadata": {
    "collapsed": true
   },
   "outputs": [],
   "source": [
    "import pandas as pd\n",
    "import numpy as np\n",
    "import matplotlib.pyplot as plt\n",
    "import json\n",
    "import requests"
   ]
  },
  {
   "cell_type": "code",
   "execution_count": 59,
   "metadata": {},
   "outputs": [],
   "source": [
    "from collections import defaultdict"
   ]
  },
  {
   "cell_type": "markdown",
   "metadata": {},
   "source": [
    "# ZRX Crowdsale Data"
   ]
  },
  {
   "cell_type": "code",
   "execution_count": 3,
   "metadata": {
    "collapsed": true
   },
   "outputs": [],
   "source": [
    "import etherscan.accounts as accounts"
   ]
  },
  {
   "cell_type": "code",
   "execution_count": 4,
   "metadata": {
    "collapsed": true
   },
   "outputs": [],
   "source": [
    "with open('key.json', 'r') as key_file:\n",
    "    key = json.loads(key_file.read())['key']"
   ]
  },
  {
   "cell_type": "code",
   "execution_count": 5,
   "metadata": {
    "collapsed": true
   },
   "outputs": [],
   "source": [
    "# Get ZRX Crowdsale Transactions\n",
    "api = accounts.Account(address=\"0xd4FD252d7D2C9479a8d616F510eAC6243B5DDdf9\", api_key=key)"
   ]
  },
  {
   "cell_type": "code",
   "execution_count": 6,
   "metadata": {},
   "outputs": [
    {
     "name": "stdout",
     "output_type": "stream",
     "text": [
      "page 1 added\n",
      "page 2 added\n",
      "page 3 added\n",
      "Total number of transactions: 21650\n"
     ]
    }
   ],
   "source": [
    "transactions = api.get_all_transactions()\n",
    "df = pd.DataFrame(transactions)"
   ]
  },
  {
   "cell_type": "code",
   "execution_count": 7,
   "metadata": {
    "collapsed": true
   },
   "outputs": [],
   "source": [
    "# format data\n",
    "df.value = df.value.astype(float)/ 1000000000000000000\n",
    "df.timeStamp = pd.to_datetime(df.timeStamp, unit='s')\n",
    "df.blockNumber = df.blockNumber.astype(int)\n",
    "df.isError = df.isError.astype(int)"
   ]
  },
  {
   "cell_type": "code",
   "execution_count": 8,
   "metadata": {
    "collapsed": true
   },
   "outputs": [],
   "source": [
    "df = df.query('isError == 0')"
   ]
  },
  {
   "cell_type": "code",
   "execution_count": 23,
   "metadata": {
    "collapsed": true
   },
   "outputs": [],
   "source": [
    "# create dataframe with cumulative 'value' values\n",
    "df_cumulative = df.copy()\n",
    "df_cumulative.value = df_cumulative.value.cumsum()"
   ]
  },
  {
   "cell_type": "code",
   "execution_count": 33,
   "metadata": {},
   "outputs": [
    {
     "data": {
      "image/png": "[encoded data removed]",
      "text/plain": [
       "<matplotlib.figure.Figure at 0x10cd8aa20>"
      ]
     },
     "metadata": {},
     "output_type": "display_data"
    }
   ],
   "source": [
    "df_cumulative.plot(x='blockNumber',y='value', xlim=(4161000,4165500), xticks=range(4161000,4165500,1000))\n",
    "plt.title('Cumulative Purchases vs. Block Number')\n",
    "plt.show()"
   ]
  },
  {
   "cell_type": "code",
   "execution_count": 43,
   "metadata": {},
   "outputs": [
    {
     "data": {
      "image/png": "[encoded data removed]",
      "text/plain": [
       "<matplotlib.figure.Figure at 0x108a2df98>"
      ]
     },
     "metadata": {},
     "output_type": "display_data"
    }
   ],
   "source": [
    "df.plot(y='value',kind=\"hist\", bins=40)\n",
    "plt.title('Distribution of ZRX Purchase Sizes')\n",
    "plt.show()"
   ]
  },
  {
   "cell_type": "code",
   "execution_count": 54,
   "metadata": {
    "collapsed": true
   },
   "outputs": [],
   "source": [
    "import etherscan.tokens as tokens"
   ]
  },
  {
   "cell_type": "code",
   "execution_count": 57,
   "metadata": {
    "collapsed": true
   },
   "outputs": [],
   "source": [
    "api = tokens.Tokens(tokenname='TheDAO', api_key=key)"
   ]
  },
  {
   "cell_type": "code",
   "execution_count": 58,
   "metadata": {},
   "outputs": [
    {
     "data": {
      "text/plain": [
       "'11538165987024671407837618'"
      ]
     },
     "execution_count": 58,
     "metadata": {},
     "output_type": "execute_result"
    }
   ],
   "source": [
    "api.get_total_supply()"
   ]
  },
  {
   "cell_type": "markdown",
   "metadata": {
    "collapsed": true
   },
   "source": [
    "# Ethplorer Stuff"
   ]
  },
  {
   "cell_type": "code",
   "execution_count": 45,
   "metadata": {
    "collapsed": true
   },
   "outputs": [],
   "source": [
    "payload = {'apiKey':'freekey'}\n",
    "r = requests.get('https://api.ethplorer.io/getTokenHistoryGrouped/0xe41d2489571d322189246dafa5ebde1f4699f498', params=payload)"
   ]
  },
  {
   "cell_type": "markdown",
   "metadata": {},
   "source": [
    "# Etherscan Event Logs"
   ]
  },
  {
   "cell_type": "raw",
   "metadata": {},
   "source": [
    "https://api.etherscan.io/api?module=logs&action=getLogs\n",
    "    &fromBlock=0\n",
    "    &toBlock=latest\n",
    "    &address=[Token Contract Address]\n",
    "    &topic0=0xddf252ad1be2c89b69c2b068fc378daa952ba7f163c4a11628f55a4df523b3ef\n",
    "    &topic1=[From Address, padded to 32 bytes - optional]\n",
    "    &topic2=[To Address, padded to 32 bytes - optional]\n",
    "    \n",
    "https://api.etherscan.io/api?module=logs&action=getLogs\n",
    "    &fromBlock=379224\n",
    "    &toBlock=latest\n",
    "    &address=0x33990122638b9132ca29c723bdf037f1a891a70c\n",
    "    &topic0=0xf63780e752c6a54a94fc52715dbc5518a3b4c3c2833d301a204226548a2a8545\n",
    "    &apikey=YourApiKeyToken"
   ]
  },
  {
   "cell_type": "code",
   "execution_count": 16,
   "metadata": {},
   "outputs": [],
   "source": [
    "LATEST_TX_BLOCK = 4473198\n",
    "# NUM_BLOCKS = LATEST_TX_BLOCK - FIRST_TX_BLOCK \n",
    "# print(NUM_BLOCKS)"
   ]
  },
  {
   "cell_type": "code",
   "execution_count": 7,
   "metadata": {
    "collapsed": true
   },
   "outputs": [],
   "source": [
    "API_KEY = \"A5M3YZ8VHWGBSHA9CHXJXKYBI37V67NQEP\"\n",
    "ZRX_ADDRESS = \"0xe41d2489571d322189246dafa5ebde1f4699f498\"\n",
    "TRANSACTION_TYPE = \"0xddf252ad1be2c89b69c2b068fc378daa952ba7f163c4a11628f55a4df523b3ef\"\n",
    "API = 'https://api.etherscan.io/api?module=logs&action=getLogs'"
   ]
  },
  {
   "cell_type": "code",
   "execution_count": 217,
   "metadata": {
    "collapsed": true
   },
   "outputs": [],
   "source": [
    "def convert_data(data):\n",
    "    return int(data,16) / 1e18"
   ]
  },
  {
   "cell_type": "code",
   "execution_count": 218,
   "metadata": {},
   "outputs": [],
   "source": [
    "def get_latest_block():\n",
    "    payload = {\n",
    "            'apikey': API_KEY\n",
    "        }\n",
    "    r = requests.get('https://api.etherscan.io/api?module=proxy&action=eth_blockNumber', params=payload)\n",
    "    return int(r.json()['result'],16)"
   ]
  },
  {
   "cell_type": "code",
   "execution_count": 232,
   "metadata": {},
   "outputs": [],
   "source": [
    "def get_transactions(address, API_KEY):\n",
    "    txns = []\n",
    "    txn_hashes = set()\n",
    "    curr_block = 0\n",
    "    visited = set()\n",
    "    latest_block = get_latest_block()\n",
    "    counter = 0\n",
    "\n",
    "    while curr_block < latest_block:\n",
    "        stack = []\n",
    "\n",
    "        # Track Progress\n",
    "        if len(txns) >= counter:\n",
    "            print(\"Transactions found: \" + str(len(txns)))\n",
    "            counter += 50000\n",
    "\n",
    "        payload = {\n",
    "            'fromBlock': str(curr_block),\n",
    "            'toBlock': 'latest',\n",
    "            'address': address,\n",
    "            'topic0': TRANSACTION_TYPE,\n",
    "            'apikey': API_KEY,\n",
    "        }\n",
    "\n",
    "        r = requests.get('https://api.etherscan.io/api?module=logs&action=getLogs', params=payload)\n",
    "\n",
    "\n",
    "        for resp in r.json()['result']:\n",
    "            if resp['transactionHash'] not in visited:\n",
    "                txn = (resp['topics'][1], resp['topics'][2], convert_data(resp['data']), resp['transactionHash'])\n",
    "                txns.append(txn)\n",
    "                txn_hashes.add(resp['transactionHash'])\n",
    "            if stack:\n",
    "                if stack[-1] != resp['transactionHash']:\n",
    "                    visited.add(stack.pop())\n",
    "                    stack.append(resp['transactionHash'])\n",
    "            else:\n",
    "                stack.append(resp['transactionHash'])\n",
    "\n",
    "        # clear stack\n",
    "        while stack:\n",
    "            visited.add(stack.pop())\n",
    "\n",
    "        curr_block = int(resp['blockNumber'], 16) - 1\n",
    "    return txns, txn_hashes\n"
   ]
  },
  {
   "cell_type": "code",
   "execution_count": 233,
   "metadata": {},
   "outputs": [
    {
     "name": "stdout",
     "output_type": "stream",
     "text": [
      "Transactions found: 0\n",
      "Transactions found: 50798\n",
      "Transactions found: 100520\n",
      "Transactions found: 150394\n"
     ]
    }
   ],
   "source": [
    "txns, txn_hashes = get_transactions(ZRX_ADDRESS, API_KEY)"
   ]
  },
  {
   "cell_type": "code",
   "execution_count": 234,
   "metadata": {},
   "outputs": [
    {
     "data": {
      "text/plain": [
       "178024"
      ]
     },
     "execution_count": 234,
     "metadata": {},
     "output_type": "execute_result"
    }
   ],
   "source": [
    "len(txns)"
   ]
  },
  {
   "cell_type": "code",
   "execution_count": 237,
   "metadata": {},
   "outputs": [
    {
     "data": {
      "text/plain": [
       "160781"
      ]
     },
     "execution_count": 237,
     "metadata": {},
     "output_type": "execute_result"
    }
   ],
   "source": [
    "len(txn_hashes)"
   ]
  },
  {
   "cell_type": "code",
   "execution_count": 238,
   "metadata": {},
   "outputs": [
    {
     "data": {
      "text/plain": [
       "True"
      ]
     },
     "execution_count": 238,
     "metadata": {},
     "output_type": "execute_result"
    }
   ],
   "source": [
    "'0x8f099bcac1c66c6a5fbdeebd29ffadc1871af17bf20d89dc546dec585fe39d2c' in txn_hashes"
   ]
  },
  {
   "cell_type": "code",
   "execution_count": 236,
   "metadata": {},
   "outputs": [
    {
     "name": "stdout",
     "output_type": "stream",
     "text": [
      "('0x000000000000000000000000a3b2d1087bcebe59d188a23f75620612d967df72', '0x000000000000000000000000b88f384226d90ac329aba855cb3f71716d5e297a', 120250000.0, '0x053d78c7bd69bb5bcbd6c74944878b3c2007bde5fd159900df37de797373b994')\n"
     ]
    }
   ],
   "source": [
    "print(txns[0])"
   ]
  },
  {
   "cell_type": "code",
   "execution_count": 225,
   "metadata": {},
   "outputs": [
    {
     "name": "stdout",
     "output_type": "stream",
     "text": [
      "1000000100.0000037\n",
      "14031\n",
      "['0x053d78c7bd69bb5bcbd6c74944878b3c2007bde5fd159900df37de797373b994', '0xc3a4feb5d07447da9e7e75cd61cfe8e164f4aeb7e7025705c2e14093aee6ac49', '0x29b3388ab8d2162cef0b4ca50e7c2bd7b5965880a08d219ca31365fd50052cfc', '0xfbc2d9c0c76f0fb2ab74114b2446b20afe8c0225c50051d40f46ca96ebec677e', '0xd6fb38ee5b30dcd9a60a6076c056e01a8860a5e151ac7a157bc3c090041b94a0', '0x5e86d73f7d702c35c683480a43b06419c95ca811d6480b9694c6834793d91e9f', '0x67ef939eb6c8272a1594716baba118b6cc27e54f42166af2ee270e0ddaa0fef8', '0xec9e3ab25a9e0e21abaac6f85b058259e9c8f4cd333327a7a65c0b7d8add398c', '0xad41e14f7f49c83462601ee940e8eaa0273d443385e91e7025728b2b5df16d6f', '0xd758b7221864c4c0b454a88b7739c96920a56f0452f89892abb5863b200875b7', '0xf16df91f7ea84ec7ca9099bda99c99f306bb11df337a2b39fb4a51762261031d']\n",
      "('0x0000000000000000000000000088426a75ce67917f3eb1810f35ca1163783bc9', '0x0000000000000000000000008015027c35844bd4b4fee91597b14c1a034c4da6', 100.0, '0xf16df91f7ea84ec7ca9099bda99c99f306bb11df337a2b39fb4a51762261031d')\n"
     ]
    }
   ],
   "source": [
    "dist = {}\n",
    "counter = 0\n",
    "stack = []\n",
    "for txn in txns:\n",
    "    if len(stack) > 10:\n",
    "        stack.pop()\n",
    "    stack.append(txn[3])\n",
    "    counter += 1\n",
    "    \n",
    "    f = txn[0]\n",
    "    t = txn[1]\n",
    "    amount = txn[2]\n",
    "    \n",
    "    if f in dist:\n",
    "        dist[f] -= amount\n",
    "\n",
    "    if t not in dist:\n",
    "        dist[t] = 0\n",
    "    dist[t] += amount\n",
    "    \n",
    "    if counter > 1000 and sum([dist[k] for k in dist]) > 1000000001:\n",
    "        print(sum([dist[k] for k in dist]))\n",
    "        print(counter)\n",
    "        print(stack)\n",
    "        print(txn)\n",
    "        break"
   ]
  },
  {
   "cell_type": "code",
   "execution_count": 227,
   "metadata": {},
   "outputs": [
    {
     "data": {
      "text/plain": [
       "False"
      ]
     },
     "execution_count": 227,
     "metadata": {},
     "output_type": "execute_result"
    }
   ],
   "source": [
    "'0x0000000000000000000000000088426a75ce67917f3eb1810f35ca1163783bc9' in dist"
   ]
  },
  {
   "cell_type": "code",
   "execution_count": 212,
   "metadata": {},
   "outputs": [
    {
     "data": {
      "text/plain": [
       "99999999.9999991"
      ]
     },
     "execution_count": 212,
     "metadata": {},
     "output_type": "execute_result"
    }
   ],
   "source": [
    "sum([dist[k] for k in dist])"
   ]
  },
  {
   "cell_type": "code",
   "execution_count": null,
   "metadata": {
    "collapsed": true
   },
   "outputs": [],
   "source": [
    "percent_dist = dist"
   ]
  }
 ],
 "metadata": {
  "kernelspec": {
   "display_name": "Python 3",
   "language": "python",
   "name": "python3"
  },
  "language_info": {
   "codemirror_mode": {
    "name": "ipython",
    "version": 3
   },
   "file_extension": ".py",
   "mimetype": "text/x-python",
   "name": "python",
   "nbconvert_exporter": "python",
   "pygments_lexer": "ipython3",
   "version": "3.6.0"
  }
 },
 "nbformat": 4,
 "nbformat_minor": 2
}
